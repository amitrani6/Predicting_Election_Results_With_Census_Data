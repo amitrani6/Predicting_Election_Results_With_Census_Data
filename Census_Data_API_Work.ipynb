{
 "cells": [
  {
   "cell_type": "code",
   "execution_count": 1,
   "metadata": {},
   "outputs": [],
   "source": [
    "import requests\n",
    "import pandas as pd\n",
    "import ast\n",
    "import re\n",
    "import numpy as np"
   ]
  },
  {
   "cell_type": "code",
   "execution_count": 2,
   "metadata": {},
   "outputs": [
    {
     "data": {
      "text/plain": [
       "'B01003_001E,B01001_002E,B01001_026E,B01002_001E,B21001_002E,B02001_002E,B02001_003E,B02001_005E,B02001_004E,B03002_012E,C03001_006E,C03001_005E,C03001_007E,C03001_004E,B05001_002E,B05001_006E,B05012_003E,B09001_001E,B11001_003E,B06009_002E,B06009_005E,B15012_009E,B15012_010E,B23025_003E,B23025_004E,B23025_005E,B19013_001E,B06011_001E,B17001_002E,B19001_017E,B19083_001E,B23013_001E,B24050_001E,B24050_002E,B24050_005E,B24050_006E,B24050_008E,B24050_009E,B24050_013E,B24050_021E,B24050_022E,B24050_025E,B24050_027E,B24050_012E,B25064_001E,'"
      ]
     },
     "execution_count": 2,
     "metadata": {},
     "output_type": "execute_result"
    }
   ],
   "source": [
    "census_codes_2011 = {\n",
    "    'Total_Pop': 'B01003_001E',\n",
    "    'Total_Males': 'B01001_002E',\n",
    "    'Total_Females': 'B01001_026E',\n",
    "    'Median_Age': 'B01002_001E',\n",
    "    'Total_Veterans': 'B21001_002E',\n",
    "    'Total_White_People': 'B02001_002E',\n",
    "    'Total_Black_People': 'B02001_003E',\n",
    "    'Total_Asian': 'B02001_005E',\n",
    "    'Total_American_Ind_Alk_Ntv': 'B02001_004E',\n",
    "    'Total_Hispanic': 'B03002_012E',\n",
    "    'Total_Cuban_Origin': 'C03001_006E',\n",
    "    'Total_Puerto_Rican_Origin':'C03001_005E',\n",
    "    'Total_Dominican_Origin':'C03001_007E',\n",
    "    'Total_Mexican_Origin': 'C03001_004E',\n",
    "    'Total_Native_US':'B05001_002E',\n",
    "    'Total_Non_Citizens': 'B05001_006E',\n",
    "    'Total_Foreign_Born': 'B05012_003E',\n",
    "    'Total_Children': 'B09001_001E',\n",
    "    'Total_Married_Households': 'B11001_003E',\n",
    "    'Total_Less_Highschool': 'B06009_002E',\n",
    "    'Total_Bachelor_Holders': 'B06009_005E',\n",
    "    'Total_STEM': 'B15012_009E',\n",
    "    'Total_Business_Degree': 'B15012_010E',\n",
    "    'Total_Labor_Force_Eligible': 'B23025_003E', #changed \n",
    "    'Total_Employed': 'B23025_004E',\n",
    "    'Total_Unemployed': 'B23025_005E',\n",
    "    'Median_Household_Income': 'B19013_001E',\n",
    "    'Median_Income': 'B06011_001E',\n",
    "    'Below_Poverty_Level_LTM': 'B17001_002E',\n",
    "    'Total_Wealthy_Households': 'B19001_017E', #200k or more\n",
    "    'Gini_Index': 'B19083_001E',\n",
    "    'Median_Age_Of_Worker': 'B23013_001E',\n",
    "    'Total_Workers': 'B24050_001E',\n",
    "    'Total_Working_Agricult': 'B24050_002E',\n",
    "    'Total_Working_Construction': 'B24050_005E',\n",
    "    'Total_Working_Manufacturing': 'B24050_006E',\n",
    "    'Total_Working_Retail': 'B24050_008E',\n",
    "    'Total_Working_Transportation': 'B24050_009E',\n",
    "    'Total_Working_Finance': 'B24050_013E',\n",
    "    'Total_Working_Education': 'B24050_021E',\n",
    "    'Total_Working_Health': 'B24050_022E',\n",
    "    'Total_Working_Food': 'B24050_025E',\n",
    "    'Total_Working_Public_Admin': 'B24050_027E',\n",
    "    'Total_Working_Information': 'B24050_012E',\n",
    "    'Median_Gross_Rent': 'B25064_001E'\n",
    "   \n",
    "}\n",
    "\n",
    "inv_census_codes_2011 = {v: k for k, v in census_codes_2011.items()}\n",
    "inv_census_codes_2011.update({'District_Name':'District_Name', 'CD': 'CD', 'State_Id': 'State_Id','State': 'State', 'CD_Id_Year': 'CD_Id_Year'})\n",
    "\n",
    "columns_url_2011 = ''\n",
    "\n",
    "for key in census_codes_2011:\n",
    "    columns_url_2011 += census_codes_2011[key] + ','\n",
    "    \n",
    "columns_url_2011"
   ]
  },
  {
   "cell_type": "code",
   "execution_count": 3,
   "metadata": {},
   "outputs": [
    {
     "data": {
      "text/plain": [
       "'B01003_001E,B01001_002E,B01001_026E,B01002_001E,B21001_002E,B02001_002E,B02001_003E,B02001_005E,B02001_004E,B03002_012E,C03001_006E,C03001_005E,C03001_007E,C03001_004E,B05001_002E,B05001_006E,B05012_003E,B09001_001E,B11001_003E,B06009_002E,B06009_005E,B15012_009E,B15012_010E,B28007_002E,B28007_003E,B28007_009E,B19013_001E,B06011_001E,B17001_002E,B19001_017E,B19083_001E,B23013_001E,B24050_001E,B24050_002E,B24050_005E,B24050_006E,B24050_008E,B24050_009E,B24050_013E,B24050_021E,B24050_022E,B24050_025E,B24050_027E,B24050_012E,B25031_001E,'"
      ]
     },
     "execution_count": 3,
     "metadata": {},
     "output_type": "execute_result"
    }
   ],
   "source": [
    "census_codes_2015 = {\n",
    "    'Total_Pop': 'B01003_001E',\n",
    "    'Total_Males': 'B01001_002E',\n",
    "    'Total_Females': 'B01001_026E',\n",
    "    'Median_Age': 'B01002_001E',\n",
    "    'Total_Veterans': 'B21001_002E',\n",
    "    'Total_White_People': 'B02001_002E',\n",
    "    'Total_Black_People': 'B02001_003E',\n",
    "    'Total_Asian': 'B02001_005E',\n",
    "    'Total_American_Ind_Alk_Ntv': 'B02001_004E',\n",
    "    'Total_Hispanic': 'B03002_012E',\n",
    "    'Total_Cuban_Origin': 'C03001_006E',\n",
    "    'Total_Puerto_Rican_Origin':'C03001_005E',\n",
    "    'Total_Dominican_Origin':'C03001_007E',\n",
    "    'Total_Mexican_Origin': 'C03001_004E',\n",
    "    'Total_Native_US':'B05001_002E',\n",
    "    'Total_Non_Citizens': 'B05001_006E',\n",
    "    'Total_Foreign_Born': 'B05012_003E',\n",
    "    'Total_Children': 'B09001_001E',\n",
    "    'Total_Married_Households': 'B11001_003E',\n",
    "    'Total_Less_Highschool': 'B06009_002E',\n",
    "    'Total_Bachelor_Holders': 'B06009_005E',\n",
    "    'Total_STEM': 'B15012_009E',\n",
    "    'Total_Business_Degree': 'B15012_010E',\n",
    "    'Total_Labor_Force_Eligible': 'B28007_002E',\n",
    "    'Total_Employed': 'B28007_003E',\n",
    "    'Total_Unemployed': 'B28007_009E',\n",
    "    'Median_Household_Income': 'B19013_001E',\n",
    "    'Median_Income': 'B06011_001E',\n",
    "    'Below_Poverty_Level_LTM': 'B17001_002E',\n",
    "    'Total_Wealthy_Households': 'B19001_017E', #200k or more\n",
    "    'Gini_Index': 'B19083_001E',\n",
    "    'Median_Age_Of_Worker': 'B23013_001E',\n",
    "    'Total_Workers': 'B24050_001E',\n",
    "    'Total_Working_Agricult': 'B24050_002E',\n",
    "    'Total_Working_Construction': 'B24050_005E',\n",
    "    'Total_Working_Manufacturing': 'B24050_006E',\n",
    "    'Total_Working_Retail': 'B24050_008E',\n",
    "    'Total_Working_Transportation': 'B24050_009E',\n",
    "    'Total_Working_Finance': 'B24050_013E',\n",
    "    'Total_Working_Education': 'B24050_021E',\n",
    "    'Total_Working_Health': 'B24050_022E',\n",
    "    'Total_Working_Food': 'B24050_025E',\n",
    "    'Total_Working_Public_Admin': 'B24050_027E',\n",
    "    'Total_Working_Information': 'B24050_012E',\n",
    "    'Median_Gross_Rent': 'B25031_001E'\n",
    "   \n",
    "}\n",
    "\n",
    "inv_census_codes_2015 = {v: k for k, v in census_codes_2015.items()}\n",
    "inv_census_codes_2015.update({'District_Name':'District_Name', 'CD': 'CD', 'State_Id': 'State_Id','State': 'State', 'CD_Id_Year': 'CD_Id_Year'})\n",
    "\n",
    "\n",
    "columns_url_2015 = ''\n",
    "\n",
    "for key in census_codes_2015:\n",
    "    columns_url_2015 += census_codes_2015[key] + ','\n",
    "    \n",
    "columns_url_2015"
   ]
  },
  {
   "cell_type": "code",
   "execution_count": 4,
   "metadata": {},
   "outputs": [],
   "source": [
    "def obtain_census_data(year, codes):\n",
    "    congressional_district_url = 'https://api.census.gov/data/{}/acs/acs1?get={}NAME&for=congressional%20district:*&in=state:*'.format(year, codes)\n",
    "    congressional_district_content = requests.get(congressional_district_url)\n",
    "    congressional_district_contenttext = congressional_district_content.text.replace('\\n', '').replace('null', '\"Replace\"')\n",
    "    congressional_district_information_list = ast.literal_eval(congressional_district_contenttext)\n",
    "    print(len(congressional_district_information_list))\n",
    "    return congressional_district_information_list\n",
    "    #return congressional_district_contenttext\n",
    "\n",
    "    "
   ]
  },
  {
   "cell_type": "code",
   "execution_count": 5,
   "metadata": {},
   "outputs": [],
   "source": [
    "def turn_info_list_to_dict(keys_list, list_of_cd_info):\n",
    "    return dict(zip(keys_list, list_of_cd_info))"
   ]
  },
  {
   "cell_type": "code",
   "execution_count": 6,
   "metadata": {},
   "outputs": [],
   "source": [
    "def congressional_district_dictionary_list(list_of_cds_info):\n",
    "    keys_list = list_of_cds_info[0]\n",
    "    cd_dictionary_list = []\n",
    "    \n",
    "    for district in list_of_cds_info[1:]:\n",
    "        cd_dictionary_list.append(turn_info_list_to_dict(keys_list, district))\n",
    "    \n",
    "    return cd_dictionary_list"
   ]
  },
  {
   "cell_type": "code",
   "execution_count": null,
   "metadata": {},
   "outputs": [],
   "source": [
    "congressional_data_2012 = congressional_district_dictionary_list(obtain_census_data('2011', columns_url_2011))\n",
    "congressional_data_2012"
   ]
  },
  {
   "cell_type": "code",
   "execution_count": null,
   "metadata": {},
   "outputs": [],
   "source": [
    "congressional_data_2016 = congressional_district_dictionary_list(obtain_census_data('2015', columns_url_2015))\n",
    "congressional_data_2016"
   ]
  },
  {
   "cell_type": "code",
   "execution_count": null,
   "metadata": {},
   "outputs": [],
   "source": [
    "states = {\n",
    "        'AK': 'Alaska',\n",
    "        'AL': 'Alabama',\n",
    "        'AR': 'Arkansas',\n",
    "        'AS': 'American Samoa',\n",
    "        'AZ': 'Arizona',\n",
    "        'CA': 'California',\n",
    "        'CO': 'Colorado',\n",
    "        'CT': 'Connecticut',\n",
    "        'DC': 'District of Columbia',\n",
    "        'DE': 'Delaware',\n",
    "        'FL': 'Florida',\n",
    "        'GA': 'Georgia',\n",
    "        'GU': 'Guam',\n",
    "        'HI': 'Hawaii',\n",
    "        'IA': 'Iowa',\n",
    "        'ID': 'Idaho',\n",
    "        'IL': 'Illinois',\n",
    "        'IN': 'Indiana',\n",
    "        'KS': 'Kansas',\n",
    "        'KY': 'Kentucky',\n",
    "        'LA': 'Louisiana',\n",
    "        'MA': 'Massachusetts',\n",
    "        'MD': 'Maryland',\n",
    "        'ME': 'Maine',\n",
    "        'MI': 'Michigan',\n",
    "        'MN': 'Minnesota',\n",
    "        'MO': 'Missouri',\n",
    "        'MP': 'Northern Mariana Islands',\n",
    "        'MS': 'Mississippi',\n",
    "        'MT': 'Montana',\n",
    "        'NA': 'National',\n",
    "        'NC': 'North Carolina',\n",
    "        'ND': 'North Dakota',\n",
    "        'NE': 'Nebraska',\n",
    "        'NH': 'New Hampshire',\n",
    "        'NJ': 'New Jersey',\n",
    "        'NM': 'New Mexico',\n",
    "        'NV': 'Nevada',\n",
    "        'NY': 'New York',\n",
    "        'OH': 'Ohio',\n",
    "        'OK': 'Oklahoma',\n",
    "        'OR': 'Oregon',\n",
    "        'PA': 'Pennsylvania',\n",
    "        'PR': 'Puerto Rico',\n",
    "        'RI': 'Rhode Island',\n",
    "        'SC': 'South Carolina',\n",
    "        'SD': 'South Dakota',\n",
    "        'TN': 'Tennessee',\n",
    "        'TX': 'Texas',\n",
    "        'UT': 'Utah',\n",
    "        'VA': 'Virginia',\n",
    "        'VI': 'Virgin Islands',\n",
    "        'VT': 'Vermont',\n",
    "        'WA': 'Washington',\n",
    "        'WI': 'Wisconsin',\n",
    "        'WV': 'West Virginia',\n",
    "        'WY': 'Wyoming'\n",
    "}\n",
    "inv_state = {v: k for k, v in states.items()}"
   ]
  },
  {
   "cell_type": "code",
   "execution_count": null,
   "metadata": {
    "scrolled": false
   },
   "outputs": [],
   "source": [
    "congressional_df_2012 = pd.DataFrame(congressional_data_2012)\n",
    "congressional_df_2012.rename(columns = {'state': 'State_Id', 'NAME': 'District_Name', 'congressional district': 'CD'}, inplace = True)\n",
    "congressional_df_2012['State'] = congressional_df_2012.District_Name.apply(lambda x: x.split(', ')[1])\n",
    "congressional_df_2012['State'] = congressional_df_2012['State'].map(inv_state)\n",
    "congressional_df_2012.loc[congressional_df_2012['CD'] == '00', 'CD'] = 'AL'\n",
    "congressional_df_2012[\"CD_Id_Year\"] = congressional_df_2012[\"State\"] + '-' + congressional_df_2012[\"CD\"] + '-2012'\n",
    "congressional_df_2012.columns = congressional_df_2012.columns.to_series().map(inv_census_codes_2011)\n",
    "congressional_df_2012.loc[congressional_df_2012['Total_Hispanic'] == 'Replace', 'Total_Hispanic'] = congressional_df_2012.Total_Mexican_Origin + congressional_df_2012.Total_Puerto_Rican_Origin + congressional_df_2012.Total_Cuban_Origin + congressional_df_2012.Total_Dominican_Origin\n",
    "congressional_df_2012.head()"
   ]
  },
  {
   "cell_type": "code",
   "execution_count": null,
   "metadata": {},
   "outputs": [],
   "source": [
    "congressional_df_2012.info()"
   ]
  },
  {
   "cell_type": "code",
   "execution_count": null,
   "metadata": {
    "scrolled": true
   },
   "outputs": [],
   "source": [
    "congressional_df_2016 = pd.DataFrame(congressional_data_2016)\n",
    "congressional_df_2016.rename(columns = {'state': 'State_Id', 'NAME': 'District_Name', 'congressional district': 'CD'}, inplace = True)\n",
    "congressional_df_2016['State'] = congressional_df_2016.District_Name.apply(lambda x: x.split(', ')[1])\n",
    "congressional_df_2016['State'] = congressional_df_2016['State'].map(inv_state)\n",
    "congressional_df_2016.loc[congressional_df_2016['CD'] == '00', 'CD'] = 'AL'\n",
    "congressional_df_2016[\"CD_Id_Year\"] = congressional_df_2016[\"State\"] + '-' + congressional_df_2016[\"CD\"] + '-2016'\n",
    "congressional_df_2016.columns = congressional_df_2016.columns.to_series().map(inv_census_codes_2015)\n",
    "congressional_df_2016.loc[congressional_df_2016['Total_Hispanic'] == 'Replace', 'Total_Hispanic'] = congressional_df_2016.Total_Mexican_Origin + congressional_df_2016.Total_Puerto_Rican_Origin + congressional_df_2016.Total_Cuban_Origin + congressional_df_2016.Total_Dominican_Origin\n",
    "congressional_df_2016.head()"
   ]
  },
  {
   "cell_type": "code",
   "execution_count": null,
   "metadata": {},
   "outputs": [],
   "source": [
    "congressional_df = pd.concat([congressional_df_2016,congressional_df_2012], sort=False)\n",
    "congressional_df"
   ]
  },
  {
   "cell_type": "code",
   "execution_count": null,
   "metadata": {
    "scrolled": false
   },
   "outputs": [],
   "source": [
    "election_results = pd.read_csv('election_results.csv')\n",
    "election_results['State_AB'] = election_results.CD.apply(lambda x: x.split('-')[0])\n",
    "election_results.rename(columns = {'CD': 'CD_Id'}, inplace = True)\n",
    "election_results[\"CD_Id_Year\"] = election_results['CD_Id'] + '-' + election_results['Year'].astype(str)\n",
    "election_results.drop(['CD_Id', 'Year', 'State_AB'], axis = 1, inplace = True)\n",
    "election_results = election_results[['CD_Id_Year', 'Previous_Presidential_D', 'Previous_Presidential_R', 'Target_Presidential_D', 'Target_Presidential_R']]\n",
    "election_results"
   ]
  },
  {
   "cell_type": "code",
   "execution_count": null,
   "metadata": {},
   "outputs": [],
   "source": [
    "super_table = pd.merge(congressional_df, election_results, on='CD_Id_Year', how = 'left')\n",
    "super_table"
   ]
  },
  {
   "cell_type": "code",
   "execution_count": null,
   "metadata": {},
   "outputs": [],
   "source": [
    "super_table.Target_Presidential_R.isnull().sum(axis = 0)"
   ]
  },
  {
   "cell_type": "code",
   "execution_count": null,
   "metadata": {},
   "outputs": [],
   "source": [
    "super_table[super_table.isnull().any(axis=1)]"
   ]
  },
  {
   "cell_type": "code",
   "execution_count": null,
   "metadata": {},
   "outputs": [],
   "source": [
    "super_table = super_table[pd.notnull(super_table['Target_Presidential_R'])]"
   ]
  },
  {
   "cell_type": "code",
   "execution_count": null,
   "metadata": {},
   "outputs": [],
   "source": [
    "super_table.info()"
   ]
  },
  {
   "cell_type": "code",
   "execution_count": null,
   "metadata": {},
   "outputs": [],
   "source": [
    "super_table.to_csv('congressional_data_and_targets.csv', index = False)"
   ]
  },
  {
   "cell_type": "code",
   "execution_count": null,
   "metadata": {},
   "outputs": [],
   "source": [
    "#super_table[super_table.eq('Replace').any(1)]\n"
   ]
  },
  {
   "cell_type": "code",
   "execution_count": null,
   "metadata": {},
   "outputs": [],
   "source": [
    "#list_of_strings = re.findall(\"\\[(.*?)\\]\\,?\",congressional_district_list_2015[1:-1])\n",
    "#print(type(list_of_strings[0]))\n",
    "#print(list_of_strings[-1])\n",
    "#print(len(list_of_strings))\n",
    "#congressional_district_information_list = list(map(lambda x: ast.literal_eval(\"[\" + x + \"]\"), list_of_strings[:142]))"
   ]
  }
 ],
 "metadata": {
  "kernelspec": {
   "display_name": "Python 3",
   "language": "python",
   "name": "python3"
  },
  "language_info": {
   "codemirror_mode": {
    "name": "ipython",
    "version": 3
   },
   "file_extension": ".py",
   "mimetype": "text/x-python",
   "name": "python",
   "nbconvert_exporter": "python",
   "pygments_lexer": "ipython3",
   "version": "3.7.2"
  }
 },
 "nbformat": 4,
 "nbformat_minor": 2
}
